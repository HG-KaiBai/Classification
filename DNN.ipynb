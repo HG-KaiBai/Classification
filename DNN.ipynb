{
  "cells": [
    {
      "cell_type": "code",
      "execution_count": 1,
      "metadata": {
        "colab": {
          "base_uri": "https://localhost:8080/"
        },
        "id": "WZHFma3ziCAb",
        "outputId": "c00a9d92-27d2-4263-96f1-69721fba9e2f"
      },
      "outputs": [
        {
          "name": "stdout",
          "output_type": "stream",
          "text": [
            "Drive already mounted at /content/drive; to attempt to forcibly remount, call drive.mount(\"/content/drive\", force_remount=True).\n"
          ]
        }
      ],
      "source": [
        "from google.colab import drive\n",
        "drive.mount('/content/drive')"
      ]
    },
    {
      "cell_type": "code",
      "execution_count": 2,
      "metadata": {
        "id": "J8ILh00Ii8xB"
      },
      "outputs": [],
      "source": [
        "import numpy as np\n",
        "from sklearn.model_selection import train_test_split\n",
        "data = np.load('/content/drive/MyDrive/Xy_train.npz')\n",
        "X_train = data['X']\n",
        "y_train = data['y']\n",
        "data = np.load(\"/content/drive/MyDrive/X_test.npz\")\n",
        "X_test = data['X']"
      ]
    },
    {
      "cell_type": "code",
      "execution_count": 3,
      "metadata": {
        "id": "nWkkEjn9jayA"
      },
      "outputs": [],
      "source": [
        "from sklearn.preprocessing import StandardScaler\n",
        "scaler = StandardScaler()\n",
        "trainX_normal = scaler.fit_transform(X_train)\n",
        "scaler = StandardScaler()\n",
        "testX_normal = scaler.fit_transform(X_test)"
      ]
    },
    {
      "cell_type": "code",
      "execution_count": 4,
      "metadata": {
        "id": "FUADYwK_kE_E"
      },
      "outputs": [],
      "source": [
        "from keras.utils import to_categorical\n",
        "trainy = to_categorical(y_train)"
      ]
    },
    {
      "cell_type": "code",
      "execution_count": 5,
      "metadata": {
        "colab": {
          "base_uri": "https://localhost:8080/",
          "height": 430
        },
        "id": "hzL3100n_6Q3",
        "outputId": "b8ad2673-da2f-4f77-8cbd-4edd21464467"
      },
      "outputs": [
        {
          "data": {
            "image/png": "[encoded data removed]",
            "text/plain": [
              "<Figure size 640x480 with 1 Axes>"
            ]
          },
          "metadata": {},
          "output_type": "display_data"
        }
      ],
      "source": [
        "from sklearn.decomposition import PCA\n",
        "from matplotlib import pyplot as plt\n",
        "pca = PCA(n_components=0.99, whiten=True).fit(trainX_normal)\n",
        "plt.plot(pca.explained_variance_ratio_)\n",
        "plt.plot(np.cumsum(pca.explained_variance_ratio_))\n",
        "plt.show()"
      ]
    },
    {
      "cell_type": "markdown",
      "metadata": {
        "id": "4F6PVFLiOBBK"
      },
      "source": [
        "After PCA, we can see the 600 features can explain most of the data variance in this set. Then dimension can decrease to 600"
      ]
    },
    {
      "cell_type": "code",
      "execution_count": 6,
      "metadata": {
        "id": "9MQxss6PRsj6"
      },
      "outputs": [],
      "source": [
        "Xtest = pca.transform(testX_normal)\n",
        "Xtrans = pca.transform(trainX_normal)"
      ]
    },
    {
      "cell_type": "code",
      "execution_count": null,
      "metadata": {
        "colab": {
          "base_uri": "https://localhost:8080/"
        },
        "id": "yM0vFkoAwlDa",
        "outputId": "c1da15ca-7092-4bf9-ed09-a90829e0e60b"
      },
      "outputs": [],
      "source": [
        "component = Xtrans.shape[1]\n",
        "component"
      ]
    },
    {
      "cell_type": "code",
      "execution_count": null,
      "metadata": {
        "colab": {
          "base_uri": "https://localhost:8080/"
        },
        "id": "UiTtM-b0IRvw",
        "outputId": "51f90f81-e40a-428b-a3a4-8e1481a9f9dc"
      },
      "outputs": [],
      "source": [
        "from keras.models import Sequential\n",
        "from keras.layers import Dense, Dropout\n",
        "from keras.optimizers import Adam\n",
        "from keras.callbacks import EarlyStopping\n",
        "from keras.regularizers import l2\n",
        "from keras.initializers import he_normal\n",
        "from keras.backend import clear_session\n",
        "import tensorflow as tf\n",
        "y = np.zeros((100000,))\n",
        "tf.random.set_seed(43)\n",
        "for i in range(8):\n",
        "  clear_session()\n",
        "  model = Sequential()\n",
        "  model.add(Dense(512, activation='relu', input_shape=(component,), kernel_initializer=he_normal(43)))\n",
        "  model.add(Dropout(0.25))\n",
        "  model.add(Dense(256, activation='relu', kernel_initializer=he_normal(43)))\n",
        "  model.add(Dropout(0.25))\n",
        "  model.add(Dense(256, activation='relu', kernel_initializer=he_normal(43)))\n",
        "  model.add(Dropout(0.25))\n",
        "  model.add(Dense(8, activation='softmax'))\n",
        "  model.compile(optimizer=Adam(), loss=\"categorical_crossentropy\", metrics=['accuracy'])\n",
        "  model.fit(Xtrans, trainy, batch_size=512, epochs=20)\n",
        "  pred = model.predict(Xtest)\n",
        "  y_pred = np.array([i.argmax() for i in pred]).reshape((100000,))\n",
        "  y += y_pred\n",
        "y = y/8"
      ]
    },
    {
      "cell_type": "code",
      "execution_count": 9,
      "metadata": {
        "id": "hsgI8TtKQgaB"
      },
      "outputs": [],
      "source": [
        "y = [round(i) for i in y]"
      ]
    }
  ],
  "metadata": {
    "accelerator": "GPU",
    "colab": {
      "gpuType": "T4",
      "machine_shape": "hm",
      "provenance": []
    },
    "kernelspec": {
      "display_name": "Python 3",
      "name": "python3"
    },
    "language_info": {
      "name": "python"
    }
  },
  "nbformat": 4,
  "nbformat_minor": 0
}
