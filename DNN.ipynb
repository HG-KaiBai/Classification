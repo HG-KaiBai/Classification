{
  "nbformat": 4,
  "nbformat_minor": 0,
  "metadata": {
    "colab": {
      "provenance": [],
      "machine_shape": "hm",
      "gpuType": "T4"
    },
    "kernelspec": {
      "name": "python3",
      "display_name": "Python 3"
    },
    "language_info": {
      "name": "python"
    },
    "accelerator": "GPU"
  },
  "cells": [
    {
      "cell_type": "code",
      "execution_count": 1,
      "metadata": {
        "colab": {
          "base_uri": "https://localhost:8080/"
        },
        "id": "WZHFma3ziCAb",
        "outputId": "c00a9d92-27d2-4263-96f1-69721fba9e2f"
      },
      "outputs": [
        {
          "output_type": "stream",
          "name": "stdout",
          "text": [
            "Drive already mounted at /content/drive; to attempt to forcibly remount, call drive.mount(\"/content/drive\", force_remount=True).\n"
          ]
        }
      ],
      "source": [
        "from google.colab import drive\n",
        "drive.mount('/content/drive')"
      ]
    },
    {
      "cell_type": "code",
      "source": [
        "import numpy as np\n",
        "from sklearn.model_selection import train_test_split\n",
        "data = np.load('/content/drive/MyDrive/Xy_train.npz')\n",
        "X_train = data['X']\n",
        "y_train = data['y']\n",
        "data = np.load(\"/content/drive/MyDrive/X_test.npz\")\n",
        "X_test = data['X']"
      ],
      "metadata": {
        "id": "J8ILh00Ii8xB"
      },
      "execution_count": 2,
      "outputs": []
    },
    {
      "cell_type": "code",
      "source": [
        "from sklearn.preprocessing import StandardScaler\n",
        "scaler = StandardScaler()\n",
        "trainX_normal = scaler.fit_transform(X_train)\n",
        "scaler = StandardScaler()\n",
        "testX_normal = scaler.fit_transform(X_test)"
      ],
      "metadata": {
        "id": "nWkkEjn9jayA"
      },
      "execution_count": 3,
      "outputs": []
    },
    {
      "cell_type": "code",
      "source": [
        "from keras.utils import to_categorical\n",
        "trainy = to_categorical(y_train)"
      ],
      "metadata": {
        "id": "FUADYwK_kE_E"
      },
      "execution_count": 4,
      "outputs": []
    },
    {
      "cell_type": "code",
      "source": [
        "from sklearn.decomposition import PCA\n",
        "from matplotlib import pyplot as plt\n",
        "pca = PCA(n_components=0.99, whiten=True).fit(trainX_normal)\n",
        "plt.plot(pca.explained_variance_ratio_)\n",
        "plt.plot(np.cumsum(pca.explained_variance_ratio_))\n",
        "plt.show()"
      ],
      "metadata": {
        "colab": {
          "base_uri": "https://localhost:8080/",
          "height": 430
        },
        "id": "hzL3100n_6Q3",
        "outputId": "b8ad2673-da2f-4f77-8cbd-4edd21464467"
      },
      "execution_count": 5,
      "outputs": [
        {
          "output_type": "display_data",
          "data": {
            "text/plain": [
              "<Figure size 640x480 with 1 Axes>"
            ],
            "image/png": "[encoded data removed]"
          },
          "metadata": {}
        }
      ]
    },
    {
      "cell_type": "markdown",
      "source": [
        "After PCA, we can see the 600 features can explain most of the data variance in this set. Then dimension can decrease to 600"
      ],
      "metadata": {
        "id": "4F6PVFLiOBBK"
      }
    },
    {
      "cell_type": "code",
      "source": [
        "Xtest = pca.transform(testX_normal)\n",
        "Xtrans = pca.transform(trainX_normal)"
      ],
      "metadata": {
        "id": "9MQxss6PRsj6"
      },
      "execution_count": 6,
      "outputs": []
    },
    {
      "cell_type": "code",
      "source": [
        "component = Xtrans.shape[1]\n",
        "component"
      ],
      "metadata": {
        "id": "yM0vFkoAwlDa",
        "colab": {
          "base_uri": "https://localhost:8080/"
        },
        "outputId": "c1da15ca-7092-4bf9-ed09-a90829e0e60b"
      },
      "execution_count": 7,
      "outputs": [
        {
          "output_type": "execute_result",
          "data": {
            "text/plain": [
              "831"
            ]
          },
          "metadata": {},
          "execution_count": 7
        }
      ]
    },
    {
      "cell_type": "code",
      "source": [
        "from keras.models import Sequential\n",
        "from keras.layers import Dense, Dropout\n",
        "from keras.optimizers import Adam\n",
        "from keras.callbacks import EarlyStopping\n",
        "from keras.regularizers import l2\n",
        "from keras.initializers import he_normal\n",
        "from keras.backend import clear_session\n",
        "import tensorflow as tf\n",
        "y = np.zeros((100000,))\n",
        "tf.random.set_seed(43)\n",
        "for i in range(8):\n",
        "  clear_session()\n",
        "  model = Sequential()\n",
        "  model.add(Dense(512, activation='relu', input_shape=(component,), kernel_initializer=he_normal(43)))\n",
        "  model.add(Dropout(0.25))\n",
        "  model.add(Dense(256, activation='relu', kernel_initializer=he_normal(43)))\n",
        "  model.add(Dropout(0.25))\n",
        "  model.add(Dense(256, activation='relu', kernel_initializer=he_normal(43)))\n",
        "  model.add(Dropout(0.25))\n",
        "  model.add(Dense(8, activation='softmax'))\n",
        "  model.compile(optimizer=Adam(), loss=\"categorical_crossentropy\", metrics=['accuracy'])\n",
        "  model.fit(Xtrans, trainy, batch_size=512, epochs=20)\n",
        "  pred = model.predict(Xtest)\n",
        "  y_pred = np.array([i.argmax() for i in pred]).reshape((100000,))\n",
        "  y += y_pred\n",
        "y = y/8"
      ],
      "metadata": {
        "id": "UiTtM-b0IRvw",
        "colab": {
          "base_uri": "https://localhost:8080/"
        },
        "outputId": "51f90f81-e40a-428b-a3a4-8e1481a9f9dc"
      },
      "execution_count": 8,
      "outputs": [
        {
          "output_type": "stream",
          "name": "stdout",
          "text": [
            "Epoch 1/20\n",
            "782/782 [==============================] - 6s 4ms/step - loss: 1.6544 - accuracy: 0.3422\n",
            "Epoch 2/20\n",
            "782/782 [==============================] - 3s 4ms/step - loss: 1.4487 - accuracy: 0.4126\n",
            "Epoch 3/20\n",
            "782/782 [==============================] - 3s 4ms/step - loss: 1.3614 - accuracy: 0.4478\n",
            "Epoch 4/20\n",
            "782/782 [==============================] - 3s 4ms/step - loss: 1.2924 - accuracy: 0.4742\n",
            "Epoch 5/20\n",
            "782/782 [==============================] - 3s 4ms/step - loss: 1.2386 - accuracy: 0.4970\n",
            "Epoch 6/20\n",
            "782/782 [==============================] - 3s 4ms/step - loss: 1.1951 - accuracy: 0.5159\n",
            "Epoch 7/20\n",
            "782/782 [==============================] - 3s 4ms/step - loss: 1.1559 - accuracy: 0.5307\n",
            "Epoch 8/20\n",
            "782/782 [==============================] - 3s 4ms/step - loss: 1.1235 - accuracy: 0.5447\n",
            "Epoch 9/20\n",
            "782/782 [==============================] - 3s 4ms/step - loss: 1.0970 - accuracy: 0.5552\n",
            "Epoch 10/20\n",
            "782/782 [==============================] - 3s 4ms/step - loss: 1.0718 - accuracy: 0.5663\n",
            "Epoch 11/20\n",
            "782/782 [==============================] - 3s 4ms/step - loss: 1.0501 - accuracy: 0.5742\n",
            "Epoch 12/20\n",
            "782/782 [==============================] - 3s 4ms/step - loss: 1.0294 - accuracy: 0.5842\n",
            "Epoch 13/20\n",
            "782/782 [==============================] - 3s 4ms/step - loss: 1.0114 - accuracy: 0.5914\n",
            "Epoch 14/20\n",
            "782/782 [==============================] - 3s 4ms/step - loss: 0.9939 - accuracy: 0.5986\n",
            "Epoch 15/20\n",
            "782/782 [==============================] - 3s 4ms/step - loss: 0.9802 - accuracy: 0.6043\n",
            "Epoch 16/20\n",
            "782/782 [==============================] - 3s 4ms/step - loss: 0.9655 - accuracy: 0.6116\n",
            "Epoch 17/20\n",
            "782/782 [==============================] - 3s 4ms/step - loss: 0.9509 - accuracy: 0.6177\n",
            "Epoch 18/20\n",
            "782/782 [==============================] - 3s 4ms/step - loss: 0.9397 - accuracy: 0.6219\n",
            "Epoch 19/20\n",
            "782/782 [==============================] - 3s 4ms/step - loss: 0.9277 - accuracy: 0.6274\n",
            "Epoch 20/20\n",
            "782/782 [==============================] - 3s 4ms/step - loss: 0.9180 - accuracy: 0.6306\n",
            "3125/3125 [==============================] - 5s 1ms/step\n",
            "Epoch 1/20\n",
            "782/782 [==============================] - 4s 4ms/step - loss: 1.6534 - accuracy: 0.3420\n",
            "Epoch 2/20\n",
            "782/782 [==============================] - 3s 4ms/step - loss: 1.4494 - accuracy: 0.4131\n",
            "Epoch 3/20\n",
            "782/782 [==============================] - 3s 4ms/step - loss: 1.3636 - accuracy: 0.4471\n",
            "Epoch 4/20\n",
            "782/782 [==============================] - 3s 4ms/step - loss: 1.2933 - accuracy: 0.4755\n",
            "Epoch 5/20\n",
            "782/782 [==============================] - 3s 4ms/step - loss: 1.2386 - accuracy: 0.4976\n",
            "Epoch 6/20\n",
            "782/782 [==============================] - 3s 4ms/step - loss: 1.1960 - accuracy: 0.5149\n",
            "Epoch 7/20\n",
            "782/782 [==============================] - 3s 4ms/step - loss: 1.1579 - accuracy: 0.5306\n",
            "Epoch 8/20\n",
            "782/782 [==============================] - 3s 4ms/step - loss: 1.1253 - accuracy: 0.5434\n",
            "Epoch 9/20\n",
            "782/782 [==============================] - 3s 4ms/step - loss: 1.0981 - accuracy: 0.5547\n",
            "Epoch 10/20\n",
            "782/782 [==============================] - 3s 4ms/step - loss: 1.0735 - accuracy: 0.5649\n",
            "Epoch 11/20\n",
            "782/782 [==============================] - 3s 4ms/step - loss: 1.0509 - accuracy: 0.5745\n",
            "Epoch 12/20\n",
            "782/782 [==============================] - 3s 4ms/step - loss: 1.0321 - accuracy: 0.5823\n",
            "Epoch 13/20\n",
            "782/782 [==============================] - 3s 4ms/step - loss: 1.0141 - accuracy: 0.5898\n",
            "Epoch 14/20\n",
            "782/782 [==============================] - 3s 4ms/step - loss: 0.9968 - accuracy: 0.5972\n",
            "Epoch 15/20\n",
            "782/782 [==============================] - 3s 4ms/step - loss: 0.9825 - accuracy: 0.6026\n",
            "Epoch 16/20\n",
            "782/782 [==============================] - 3s 4ms/step - loss: 0.9677 - accuracy: 0.6096\n",
            "Epoch 17/20\n",
            "782/782 [==============================] - 3s 4ms/step - loss: 0.9555 - accuracy: 0.6157\n",
            "Epoch 18/20\n",
            "782/782 [==============================] - 3s 4ms/step - loss: 0.9446 - accuracy: 0.6200\n",
            "Epoch 19/20\n",
            "782/782 [==============================] - 3s 4ms/step - loss: 0.9316 - accuracy: 0.6261\n",
            "Epoch 20/20\n",
            "782/782 [==============================] - 3s 4ms/step - loss: 0.9200 - accuracy: 0.6309\n",
            "3125/3125 [==============================] - 5s 2ms/step\n",
            "Epoch 1/20\n",
            "782/782 [==============================] - 4s 4ms/step - loss: 1.6515 - accuracy: 0.3436\n",
            "Epoch 2/20\n",
            "782/782 [==============================] - 3s 4ms/step - loss: 1.4483 - accuracy: 0.4130\n",
            "Epoch 3/20\n",
            "782/782 [==============================] - 3s 4ms/step - loss: 1.3612 - accuracy: 0.4482\n",
            "Epoch 4/20\n",
            "782/782 [==============================] - 3s 4ms/step - loss: 1.2918 - accuracy: 0.4753\n",
            "Epoch 5/20\n",
            "782/782 [==============================] - 3s 4ms/step - loss: 1.2377 - accuracy: 0.4976\n",
            "Epoch 6/20\n",
            "782/782 [==============================] - 3s 4ms/step - loss: 1.1926 - accuracy: 0.5157\n",
            "Epoch 7/20\n",
            "782/782 [==============================] - 3s 4ms/step - loss: 1.1551 - accuracy: 0.5306\n",
            "Epoch 8/20\n",
            "782/782 [==============================] - 3s 4ms/step - loss: 1.1204 - accuracy: 0.5447\n",
            "Epoch 9/20\n",
            "782/782 [==============================] - 3s 4ms/step - loss: 1.0932 - accuracy: 0.5565\n",
            "Epoch 10/20\n",
            "782/782 [==============================] - 3s 4ms/step - loss: 1.0669 - accuracy: 0.5669\n",
            "Epoch 11/20\n",
            "782/782 [==============================] - 3s 4ms/step - loss: 1.0457 - accuracy: 0.5767\n",
            "Epoch 12/20\n",
            "782/782 [==============================] - 3s 4ms/step - loss: 1.0234 - accuracy: 0.5854\n",
            "Epoch 13/20\n",
            "782/782 [==============================] - 3s 4ms/step - loss: 1.0064 - accuracy: 0.5930\n",
            "Epoch 14/20\n",
            "782/782 [==============================] - 3s 4ms/step - loss: 0.9906 - accuracy: 0.6004\n",
            "Epoch 15/20\n",
            "782/782 [==============================] - 3s 4ms/step - loss: 0.9765 - accuracy: 0.6054\n",
            "Epoch 16/20\n",
            "782/782 [==============================] - 3s 4ms/step - loss: 0.9617 - accuracy: 0.6127\n",
            "Epoch 17/20\n",
            "782/782 [==============================] - 3s 4ms/step - loss: 0.9483 - accuracy: 0.6187\n",
            "Epoch 18/20\n",
            "782/782 [==============================] - 3s 4ms/step - loss: 0.9357 - accuracy: 0.6232\n",
            "Epoch 19/20\n",
            "782/782 [==============================] - 3s 4ms/step - loss: 0.9267 - accuracy: 0.6271\n",
            "Epoch 20/20\n",
            "782/782 [==============================] - 3s 4ms/step - loss: 0.9146 - accuracy: 0.6323\n",
            "3125/3125 [==============================] - 5s 1ms/step\n",
            "Epoch 1/20\n",
            "782/782 [==============================] - 5s 4ms/step - loss: 1.6561 - accuracy: 0.3415\n",
            "Epoch 2/20\n",
            "782/782 [==============================] - 3s 4ms/step - loss: 1.4505 - accuracy: 0.4123\n",
            "Epoch 3/20\n",
            "782/782 [==============================] - 3s 4ms/step - loss: 1.3642 - accuracy: 0.4464\n",
            "Epoch 4/20\n",
            "782/782 [==============================] - 3s 4ms/step - loss: 1.2966 - accuracy: 0.4737\n",
            "Epoch 5/20\n",
            "782/782 [==============================] - 3s 4ms/step - loss: 1.2419 - accuracy: 0.4955\n",
            "Epoch 6/20\n",
            "782/782 [==============================] - 3s 4ms/step - loss: 1.1985 - accuracy: 0.5141\n",
            "Epoch 7/20\n",
            "782/782 [==============================] - 3s 4ms/step - loss: 1.1591 - accuracy: 0.5294\n",
            "Epoch 8/20\n",
            "782/782 [==============================] - 3s 4ms/step - loss: 1.1275 - accuracy: 0.5439\n",
            "Epoch 9/20\n",
            "782/782 [==============================] - 3s 4ms/step - loss: 1.0986 - accuracy: 0.5544\n",
            "Epoch 10/20\n",
            "782/782 [==============================] - 3s 4ms/step - loss: 1.0733 - accuracy: 0.5660\n",
            "Epoch 11/20\n",
            "782/782 [==============================] - 3s 4ms/step - loss: 1.0495 - accuracy: 0.5752\n",
            "Epoch 12/20\n",
            "782/782 [==============================] - 3s 4ms/step - loss: 1.0303 - accuracy: 0.5836\n",
            "Epoch 13/20\n",
            "782/782 [==============================] - 3s 4ms/step - loss: 1.0112 - accuracy: 0.5910\n",
            "Epoch 14/20\n",
            "782/782 [==============================] - 3s 4ms/step - loss: 0.9967 - accuracy: 0.5982\n",
            "Epoch 15/20\n",
            "782/782 [==============================] - 3s 4ms/step - loss: 0.9816 - accuracy: 0.6043\n",
            "Epoch 16/20\n",
            "782/782 [==============================] - 3s 4ms/step - loss: 0.9690 - accuracy: 0.6095\n",
            "Epoch 17/20\n",
            "782/782 [==============================] - 3s 4ms/step - loss: 0.9527 - accuracy: 0.6158\n",
            "Epoch 18/20\n",
            "782/782 [==============================] - 3s 4ms/step - loss: 0.9415 - accuracy: 0.6208\n",
            "Epoch 19/20\n",
            "782/782 [==============================] - 3s 4ms/step - loss: 0.9311 - accuracy: 0.6258\n",
            "Epoch 20/20\n",
            "782/782 [==============================] - 3s 4ms/step - loss: 0.9197 - accuracy: 0.6301\n",
            "3125/3125 [==============================] - 5s 1ms/step\n",
            "Epoch 1/20\n",
            "782/782 [==============================] - 4s 4ms/step - loss: 1.6555 - accuracy: 0.3429\n",
            "Epoch 2/20\n",
            "782/782 [==============================] - 3s 4ms/step - loss: 1.4509 - accuracy: 0.4126\n",
            "Epoch 3/20\n",
            "782/782 [==============================] - 3s 4ms/step - loss: 1.3657 - accuracy: 0.4476\n",
            "Epoch 4/20\n",
            "782/782 [==============================] - 3s 4ms/step - loss: 1.2975 - accuracy: 0.4737\n",
            "Epoch 5/20\n",
            "782/782 [==============================] - 3s 4ms/step - loss: 1.2434 - accuracy: 0.4960\n",
            "Epoch 6/20\n",
            "782/782 [==============================] - 3s 4ms/step - loss: 1.1992 - accuracy: 0.5134\n",
            "Epoch 7/20\n",
            "782/782 [==============================] - 3s 4ms/step - loss: 1.1589 - accuracy: 0.5303\n",
            "Epoch 8/20\n",
            "782/782 [==============================] - 3s 4ms/step - loss: 1.1270 - accuracy: 0.5444\n",
            "Epoch 9/20\n",
            "782/782 [==============================] - 3s 4ms/step - loss: 1.0987 - accuracy: 0.5550\n",
            "Epoch 10/20\n",
            "782/782 [==============================] - 3s 4ms/step - loss: 1.0726 - accuracy: 0.5659\n",
            "Epoch 11/20\n",
            "782/782 [==============================] - 3s 4ms/step - loss: 1.0525 - accuracy: 0.5753\n",
            "Epoch 12/20\n",
            "782/782 [==============================] - 3s 4ms/step - loss: 1.0331 - accuracy: 0.5832\n",
            "Epoch 13/20\n",
            "782/782 [==============================] - 3s 4ms/step - loss: 1.0139 - accuracy: 0.5909\n",
            "Epoch 14/20\n",
            "782/782 [==============================] - 3s 4ms/step - loss: 0.9973 - accuracy: 0.5980\n",
            "Epoch 15/20\n",
            "782/782 [==============================] - 3s 4ms/step - loss: 0.9841 - accuracy: 0.6031\n",
            "Epoch 16/20\n",
            "782/782 [==============================] - 3s 4ms/step - loss: 0.9681 - accuracy: 0.6109\n",
            "Epoch 17/20\n",
            "782/782 [==============================] - 3s 4ms/step - loss: 0.9534 - accuracy: 0.6161\n",
            "Epoch 18/20\n",
            "782/782 [==============================] - 3s 4ms/step - loss: 0.9466 - accuracy: 0.6196\n",
            "Epoch 19/20\n",
            "782/782 [==============================] - 3s 4ms/step - loss: 0.9322 - accuracy: 0.6263\n",
            "Epoch 20/20\n",
            "782/782 [==============================] - 3s 4ms/step - loss: 0.9212 - accuracy: 0.6301\n",
            "3125/3125 [==============================] - 5s 1ms/step\n",
            "Epoch 1/20\n",
            "782/782 [==============================] - 5s 4ms/step - loss: 1.6567 - accuracy: 0.3423\n",
            "Epoch 2/20\n",
            "782/782 [==============================] - 3s 4ms/step - loss: 1.4500 - accuracy: 0.4134\n",
            "Epoch 3/20\n",
            "782/782 [==============================] - 3s 4ms/step - loss: 1.3646 - accuracy: 0.4470\n",
            "Epoch 4/20\n",
            "782/782 [==============================] - 3s 4ms/step - loss: 1.2989 - accuracy: 0.4732\n",
            "Epoch 5/20\n",
            "782/782 [==============================] - 3s 4ms/step - loss: 1.2445 - accuracy: 0.4956\n",
            "Epoch 6/20\n",
            "782/782 [==============================] - 3s 4ms/step - loss: 1.2005 - accuracy: 0.5134\n",
            "Epoch 7/20\n",
            "782/782 [==============================] - 3s 4ms/step - loss: 1.1614 - accuracy: 0.5289\n",
            "Epoch 8/20\n",
            "782/782 [==============================] - 3s 4ms/step - loss: 1.1291 - accuracy: 0.5432\n",
            "Epoch 9/20\n",
            "782/782 [==============================] - 3s 4ms/step - loss: 1.1011 - accuracy: 0.5541\n",
            "Epoch 10/20\n",
            "782/782 [==============================] - 3s 4ms/step - loss: 1.0782 - accuracy: 0.5637\n",
            "Epoch 11/20\n",
            "782/782 [==============================] - 3s 4ms/step - loss: 1.0539 - accuracy: 0.5739\n",
            "Epoch 12/20\n",
            "782/782 [==============================] - 3s 4ms/step - loss: 1.0327 - accuracy: 0.5824\n",
            "Epoch 13/20\n",
            "782/782 [==============================] - 3s 4ms/step - loss: 1.0144 - accuracy: 0.5897\n",
            "Epoch 14/20\n",
            "782/782 [==============================] - 3s 4ms/step - loss: 1.0009 - accuracy: 0.5963\n",
            "Epoch 15/20\n",
            "782/782 [==============================] - 3s 4ms/step - loss: 0.9832 - accuracy: 0.6031\n",
            "Epoch 16/20\n",
            "782/782 [==============================] - 3s 4ms/step - loss: 0.9694 - accuracy: 0.6092\n",
            "Epoch 17/20\n",
            "782/782 [==============================] - 3s 4ms/step - loss: 0.9549 - accuracy: 0.6163\n",
            "Epoch 18/20\n",
            "782/782 [==============================] - 3s 4ms/step - loss: 0.9431 - accuracy: 0.6208\n",
            "Epoch 19/20\n",
            "782/782 [==============================] - 3s 4ms/step - loss: 0.9324 - accuracy: 0.6251\n",
            "Epoch 20/20\n",
            "782/782 [==============================] - 3s 4ms/step - loss: 0.9225 - accuracy: 0.6297\n",
            "3125/3125 [==============================] - 5s 2ms/step\n",
            "Epoch 1/20\n",
            "782/782 [==============================] - 4s 4ms/step - loss: 1.6573 - accuracy: 0.3413\n",
            "Epoch 2/20\n",
            "782/782 [==============================] - 3s 4ms/step - loss: 1.4519 - accuracy: 0.4112\n",
            "Epoch 3/20\n",
            "782/782 [==============================] - 3s 4ms/step - loss: 1.3624 - accuracy: 0.4470\n",
            "Epoch 4/20\n",
            "782/782 [==============================] - 3s 4ms/step - loss: 1.2936 - accuracy: 0.4746\n",
            "Epoch 5/20\n",
            "782/782 [==============================] - 3s 4ms/step - loss: 1.2391 - accuracy: 0.4978\n",
            "Epoch 6/20\n",
            "782/782 [==============================] - 3s 4ms/step - loss: 1.1946 - accuracy: 0.5152\n",
            "Epoch 7/20\n",
            "782/782 [==============================] - 3s 4ms/step - loss: 1.1561 - accuracy: 0.5304\n",
            "Epoch 8/20\n",
            "782/782 [==============================] - 3s 4ms/step - loss: 1.1262 - accuracy: 0.5430\n",
            "Epoch 9/20\n",
            "782/782 [==============================] - 3s 4ms/step - loss: 1.0968 - accuracy: 0.5553\n",
            "Epoch 10/20\n",
            "782/782 [==============================] - 3s 4ms/step - loss: 1.0725 - accuracy: 0.5645\n",
            "Epoch 11/20\n",
            "782/782 [==============================] - 3s 4ms/step - loss: 1.0500 - accuracy: 0.5750\n",
            "Epoch 12/20\n",
            "782/782 [==============================] - 3s 4ms/step - loss: 1.0311 - accuracy: 0.5833\n",
            "Epoch 13/20\n",
            "782/782 [==============================] - 3s 4ms/step - loss: 1.0132 - accuracy: 0.5910\n",
            "Epoch 14/20\n",
            "782/782 [==============================] - 3s 4ms/step - loss: 0.9973 - accuracy: 0.5962\n",
            "Epoch 15/20\n",
            "782/782 [==============================] - 3s 4ms/step - loss: 0.9834 - accuracy: 0.6028\n",
            "Epoch 16/20\n",
            "782/782 [==============================] - 3s 4ms/step - loss: 0.9673 - accuracy: 0.6104\n",
            "Epoch 17/20\n",
            "782/782 [==============================] - 3s 4ms/step - loss: 0.9538 - accuracy: 0.6156\n",
            "Epoch 18/20\n",
            "782/782 [==============================] - 3s 4ms/step - loss: 0.9443 - accuracy: 0.6203\n",
            "Epoch 19/20\n",
            "782/782 [==============================] - 3s 4ms/step - loss: 0.9310 - accuracy: 0.6261\n",
            "Epoch 20/20\n",
            "782/782 [==============================] - 3s 4ms/step - loss: 0.9197 - accuracy: 0.6306\n",
            "3125/3125 [==============================] - 5s 1ms/step\n",
            "Epoch 1/20\n",
            "782/782 [==============================] - 5s 4ms/step - loss: 1.6579 - accuracy: 0.3420\n",
            "Epoch 2/20\n",
            "782/782 [==============================] - 3s 4ms/step - loss: 1.4496 - accuracy: 0.4128\n",
            "Epoch 3/20\n",
            "782/782 [==============================] - 3s 4ms/step - loss: 1.3609 - accuracy: 0.4486\n",
            "Epoch 4/20\n",
            "782/782 [==============================] - 3s 4ms/step - loss: 1.2905 - accuracy: 0.4772\n",
            "Epoch 5/20\n",
            "782/782 [==============================] - 3s 4ms/step - loss: 1.2367 - accuracy: 0.4989\n",
            "Epoch 6/20\n",
            "782/782 [==============================] - 3s 4ms/step - loss: 1.1922 - accuracy: 0.5179\n",
            "Epoch 7/20\n",
            "782/782 [==============================] - 3s 4ms/step - loss: 1.1530 - accuracy: 0.5335\n",
            "Epoch 8/20\n",
            "782/782 [==============================] - 3s 4ms/step - loss: 1.1219 - accuracy: 0.5462\n",
            "Epoch 9/20\n",
            "782/782 [==============================] - 3s 4ms/step - loss: 1.0953 - accuracy: 0.5573\n",
            "Epoch 10/20\n",
            "782/782 [==============================] - 3s 4ms/step - loss: 1.0707 - accuracy: 0.5670\n",
            "Epoch 11/20\n",
            "782/782 [==============================] - 3s 4ms/step - loss: 1.0500 - accuracy: 0.5756\n",
            "Epoch 12/20\n",
            "782/782 [==============================] - 3s 4ms/step - loss: 1.0286 - accuracy: 0.5858\n",
            "Epoch 13/20\n",
            "782/782 [==============================] - 3s 4ms/step - loss: 1.0111 - accuracy: 0.5920\n",
            "Epoch 14/20\n",
            "782/782 [==============================] - 3s 4ms/step - loss: 0.9951 - accuracy: 0.5997\n",
            "Epoch 15/20\n",
            "782/782 [==============================] - 3s 4ms/step - loss: 0.9801 - accuracy: 0.6061\n",
            "Epoch 16/20\n",
            "782/782 [==============================] - 3s 4ms/step - loss: 0.9672 - accuracy: 0.6112\n",
            "Epoch 17/20\n",
            "782/782 [==============================] - 3s 4ms/step - loss: 0.9537 - accuracy: 0.6169\n",
            "Epoch 18/20\n",
            "782/782 [==============================] - 3s 4ms/step - loss: 0.9413 - accuracy: 0.6217\n",
            "Epoch 19/20\n",
            "782/782 [==============================] - 3s 4ms/step - loss: 0.9310 - accuracy: 0.6260\n",
            "Epoch 20/20\n",
            "782/782 [==============================] - 3s 4ms/step - loss: 0.9192 - accuracy: 0.6307\n",
            "3125/3125 [==============================] - 5s 1ms/step\n"
          ]
        }
      ]
    },
    {
      "cell_type": "code",
      "source": [
        "y = [round(i) for i in y]"
      ],
      "metadata": {
        "id": "hsgI8TtKQgaB"
      },
      "execution_count": 9,
      "outputs": []
    },
    {
      "cell_type": "code",
      "source": [
        "from typing import Counter\n",
        "import pandas as pd\n",
        "print(Counter(y).items())\n",
        "a = pd.read_csv('(1)y679zhao.csv')\n",
        "print(Counter(a['Predicted']).items())"
      ],
      "metadata": {
        "colab": {
          "base_uri": "https://localhost:8080/"
        },
        "id": "JDx_J9nlHTY4",
        "outputId": "956ba269-5208-4e16-8453-49b443c10bc7"
      },
      "execution_count": 10,
      "outputs": [
        {
          "output_type": "stream",
          "name": "stdout",
          "text": [
            "dict_items([(6, 14714), (3, 7995), (4, 19597), (2, 13180), (0, 18619), (7, 4681), (5, 10091), (1, 11123)])\n",
            "dict_items([(6, 13671), (3, 9590), (7, 5665), (4, 16802), (2, 12519), (0, 17753), (1, 12489), (5, 11511)])\n"
          ]
        }
      ]
    },
    {
      "cell_type": "code",
      "source": [
        "import pandas as pd\n",
        "y = pd.DataFrame(y)\n",
        "y.columns = ['Predicted']\n",
        "y.index = y.index\n",
        "y.index.name = 'ID'\n",
        "y.to_csv('y679zhao.csv')"
      ],
      "metadata": {
        "id": "e0fUPZoeTIGp"
      },
      "execution_count": 11,
      "outputs": []
    }
  ]
}