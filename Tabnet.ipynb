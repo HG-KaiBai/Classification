{
  "cells": [
    {
      "cell_type": "code",
      "execution_count": 1,
      "metadata": {
        "colab": {
          "base_uri": "https://localhost:8080/"
        },
        "id": "WZHFma3ziCAb",
        "outputId": "50b82d17-a72e-45ca-939c-1f17e0e66c78"
      },
      "outputs": [
        {
          "name": "stdout",
          "output_type": "stream",
          "text": [
            "Drive already mounted at /content/drive; to attempt to forcibly remount, call drive.mount(\"/content/drive\", force_remount=True).\n"
          ]
        }
      ],
      "source": [
        "from google.colab import drive\n",
        "drive.mount('/content/drive')"
      ]
    },
    {
      "cell_type": "code",
      "execution_count": 2,
      "metadata": {
        "id": "J8ILh00Ii8xB"
      },
      "outputs": [],
      "source": [
        "import numpy as np\n",
        "import pandas as pd\n",
        "from sklearn.model_selection import train_test_split\n",
        "data = np.load('/content/drive/MyDrive/Xy_train.npz')\n",
        "X_train = pd.DataFrame(data['X'])\n",
        "y_train = pd.DataFrame(data['y'])\n",
        "data = np.load(\"/content/drive/MyDrive/X_test.npz\")\n",
        "X_test = pd.DataFrame(data['X'])"
      ]
    },
    {
      "cell_type": "code",
      "execution_count": 3,
      "metadata": {
        "colab": {
          "base_uri": "https://localhost:8080/"
        },
        "id": "6LkHirODPIds",
        "outputId": "a09469ed-2a8f-4633-f087-d59e822a1d95"
      },
      "outputs": [
        {
          "name": "stderr",
          "output_type": "stream",
          "text": [
            "<ipython-input-3-e718d2be2b37>:1: FutureWarning: The frame.append method is deprecated and will be removed from pandas in a future version. Use pandas.concat instead.\n",
            "  X = X_train.append(X_test)\n"
          ]
        }
      ],
      "source": [
        "X = X_train.append(X_test)\n",
        "X.index = range(X.shape[0])"
      ]
    },
    {
      "cell_type": "code",
      "execution_count": 4,
      "metadata": {
        "id": "MBQlNnf_h6A-"
      },
      "outputs": [],
      "source": [
        "X.columns = [str(i) for i in range(X.shape[1])]\n",
        "y_train.columns = ['y']"
      ]
    },
    {
      "cell_type": "code",
      "execution_count": null,
      "metadata": {
        "id": "3RjAI8QcR75D"
      },
      "outputs": [],
      "source": [
        "for i in range(X.shape[1]):\n",
        "  if (len(X[str(i)].unique()) < 100):\n",
        "    X[str(i)] = X[str(i)].astype('object')"
      ]
    },
    {
      "cell_type": "code",
      "execution_count": null,
      "metadata": {
        "id": "ayWAdYozrDRv"
      },
      "outputs": [],
      "source": [
        "X"
      ]
    },
    {
      "cell_type": "code",
      "execution_count": null,
      "metadata": {
        "id": "LtU-Vo0qqqMz"
      },
      "outputs": [],
      "source": [
        "sum(X.isna().sum())"
      ]
    },
    {
      "cell_type": "code",
      "execution_count": null,
      "metadata": {
        "id": "XsiZKOhGn19Q"
      },
      "outputs": [],
      "source": [
        "n_total = X_train.shape[0]\n",
        "train_indices, valid_indices = train_test_split(range(n_total), test_size=0.2, random_state=42)\n",
        "test_indices = [int(i) for i in range(400000,500000)]"
      ]
    },
    {
      "cell_type": "code",
      "execution_count": null,
      "metadata": {
        "id": "QTj300LxotfR"
      },
      "outputs": [],
      "source": [
        "from sklearn.preprocessing import LabelEncoder\n",
        "categorical_columns = []\n",
        "categorical_dims =  {}\n",
        "for col in X.columns[X.dtypes == 'object']:\n",
        "    print(col, X[col].nunique())\n",
        "    l_enc = LabelEncoder()\n",
        "    X[col] = l_enc.fit_transform(X[col].values)\n",
        "    categorical_columns.append(col)\n",
        "    categorical_dims[col] = len(l_enc.classes_)"
      ]
    },
    {
      "cell_type": "code",
      "execution_count": null,
      "metadata": {
        "id": "oZ7V1yXHpkNx"
      },
      "outputs": [],
      "source": [
        "cat_idxs = [int(i) for i in categorical_columns]\n",
        "cat_dims = [categorical_dims[f] for f in categorical_columns]"
      ]
    },
    {
      "cell_type": "code",
      "execution_count": null,
      "metadata": {
        "id": "gnqX1ew_scl6"
      },
      "outputs": [],
      "source": [
        "features = list(X_train.columns)"
      ]
    },
    {
      "cell_type": "code",
      "execution_count": null,
      "metadata": {
        "id": "5ZC-g7wus4-7"
      },
      "outputs": [],
      "source": [
        "trainX = X[features].values[train_indices]\n",
        "trainy = y_train['y'].values[train_indices]\n",
        "testX = X[features].values[test_indices]\n",
        "\n",
        "valX = X[features].values[valid_indices]\n",
        "valy = y_train['y'].values[valid_indices]"
      ]
    },
    {
      "cell_type": "code",
      "execution_count": null,
      "metadata": {
        "id": "atdZuix8zGuB"
      },
      "outputs": [],
      "source": [
        "!pip install pytorch-tabnet"
      ]
    },
    {
      "cell_type": "code",
      "execution_count": null,
      "metadata": {
        "id": "wBmW6J2pxpZy"
      },
      "outputs": [],
      "source": [
        "from pytorch_tabnet.tab_model import TabNetClassifier\n",
        "import torch\n",
        "clf = TabNetClassifier(\n",
        "    n_d=64, n_a=64, n_steps=3,\n",
        "    gamma=1.5, seed = 42,\n",
        "    cat_idxs=cat_idxs,\n",
        "    cat_dims=cat_dims,\n",
        "    optimizer_fn=torch.optim.Adam,\n",
        "    optimizer_params=dict(lr=1e-2),\n",
        "    scheduler_params = {\"gamma\": 0.9,\n",
        "                     \"step_size\": 10},\n",
        "    scheduler_fn=torch.optim.lr_scheduler.StepLR\n",
        ")\n",
        "clf.fit(\n",
        "  trainX, trainy,\n",
        "  eval_set=[(trainX, trainy),(valX, valy)],\n",
        "  eval_metric = ['balanced_accuracy'],\n",
        "  max_epochs = 200,\n",
        "  compute_importance = False,\n",
        "  batch_size= 1024,\n",
        "  virtual_batch_size=1024,\n",
        "  patience = 30,\n",
        "  )\n",
        "saved_filename = clf.save_model('test_model')"
      ]
    },
    {
      "cell_type": "code",
      "execution_count": null,
      "metadata": {
        "id": "oXeB1koq10jc"
      },
      "outputs": [],
      "source": [
        "y_pred = clf.predict(testX)"
      ]
    }
  ],
  "metadata": {
    "accelerator": "GPU",
    "colab": {
      "gpuType": "T4",
      "machine_shape": "hm",
      "provenance": []
    },
    "kernelspec": {
      "display_name": "Python 3",
      "name": "python3"
    },
    "language_info": {
      "name": "python"
    }
  },
  "nbformat": 4,
  "nbformat_minor": 0
}
